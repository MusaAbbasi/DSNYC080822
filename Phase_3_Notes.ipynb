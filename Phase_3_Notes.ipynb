{
 "cells": [
  {
   "cell_type": "markdown",
   "metadata": {},
   "source": [
    "# Phase 3 Notes"
   ]
  },
  {
   "cell_type": "markdown",
   "metadata": {},
   "source": [
    "## OOP Object Oriented Programming"
   ]
  },
  {
   "cell_type": "code",
   "execution_count": 1,
   "metadata": {},
   "outputs": [],
   "source": [
    "#to create a class\n",
    "class ExampleClass:\n",
    "    pass #at a minimum an empty class must contain pass"
   ]
  },
  {
   "cell_type": "code",
   "execution_count": 2,
   "metadata": {},
   "outputs": [],
   "source": [
    "class Dog:\n",
    "    \n",
    "    def bark(self):\n",
    "        return 'I am actually going to bark this time. bark!'\n",
    "        \n",
    "    def who_am_i(self):\n",
    "        return self"
   ]
  },
  {
   "cell_type": "code",
   "execution_count": 3,
   "metadata": {},
   "outputs": [
    {
     "name": "stdout",
     "output_type": "stream",
     "text": [
      "I am actually going to bark this time. bark!\n",
      "<__main__.Dog object at 0x000002A2A7736280>\n"
     ]
    },
    {
     "data": {
      "text/plain": [
       "True"
      ]
     },
     "execution_count": 3,
     "metadata": {},
     "output_type": "execute_result"
    }
   ],
   "source": [
    "#how to use a class and the defined instance methods\n",
    "rex = Dog()\n",
    "print(rex.bark())\n",
    "print(rex.who_am_i())\n",
    "rex == rex.who_am_i()"
   ]
  },
  {
   "cell_type": "markdown",
   "metadata": {},
   "source": [
    "Attributes = Fields, properties of object insatance"
   ]
  },
  {
   "cell_type": "markdown",
   "metadata": {},
   "source": [
    "##### Example of super and subclasses"
   ]
  },
  {
   "cell_type": "code",
   "execution_count": 4,
   "metadata": {},
   "outputs": [],
   "source": [
    "class Musician(object):\n",
    "    \n",
    "    def __init__(self, name): # We'll set name at instantiation time to demonstrate passing in arguments to super().__init__()\n",
    "        self.name = name\n",
    "        self.band = \"The Beatles\"\n",
    "    \n",
    "    def tune_instrument(self):\n",
    "        print(\"Tuning Instrument!\")\n",
    "    \n",
    "    def practice(self):\n",
    "        print(\"Practicing!\")\n",
    "        \n",
    "    def perform(self):\n",
    "        print(\"Hello New York!\")\n",
    "        \n",
    "class Singer(Musician):\n",
    "    \n",
    "    def __init__(self, name):\n",
    "        super().__init__(name)  # Notice how we pass in name argument from init to the super().__init() method, because it expects it\n",
    "        self.role = \"Singer\"\n",
    "        \n",
    "    def tune_instrument(self):\n",
    "        print(\"No tuning needed -- I'm a singer!\")\n",
    "    \n",
    "class Guitarist(Musician):\n",
    "    \n",
    "    def __init__(self, name):\n",
    "        super().__init__(name)\n",
    "        self.role = \"Guitarist\"\n",
    "        \n",
    "    def practice(self):\n",
    "        print(\"Strumming the old 6 string!\")\n",
    "        \n",
    "class Bass_Guitarist(Guitarist):\n",
    "    \n",
    "    def __init__(self, name):\n",
    "        super().__init__(name)\n",
    "        self.role = \"Bass Guitarist\"\n",
    "        \n",
    "    def practice(self):\n",
    "        print(\"I play the Seinfeld Theme Song when I get bored\")\n",
    "        \n",
    "    def perform(self):\n",
    "        super().perform()\n",
    "        print(\"Thanks for coming out!\")\n",
    "        \n",
    "class Drummer(Musician):\n",
    "    \n",
    "    def __init__(self, name):\n",
    "        super().__init__(name)\n",
    "        self.role = \"Drummer\"\n",
    "        \n",
    "    def tune_instrument(self):\n",
    "        print('Where did I put those drum sticks?')\n",
    "        \n",
    "    def practice(self):\n",
    "        print('Why does my chair still say \"Pete Best\"?')"
   ]
  },
  {
   "cell_type": "markdown",
   "metadata": {},
   "source": [
    "## Calculus"
   ]
  },
  {
   "cell_type": "markdown",
   "metadata": {},
   "source": [
    "Derivative: $$ \\frac{df(x)}{dx} $$\n",
    "\n",
    "The instaneous slope of $f(x)$ at $x = c$."
   ]
  },
  {
   "cell_type": "markdown",
   "metadata": {},
   "source": [
    "Define as limit of slope of chord between f(x + h) and f(x): $$\\frac{\\Delta y}{\\Delta x} $$ \n",
    "- As $\\Delta x \\rightarrow 0$."
   ]
  },
  {
   "cell_type": "markdown",
   "metadata": {},
   "source": [
    "Finding $w_1$ minimizing cost function:\n",
    "\n",
    "$$L = \\sum_{i=1}^N (y_i - x_i w_1)^2 $$"
   ]
  },
  {
   "cell_type": "markdown",
   "metadata": {},
   "source": [
    "#### Variables\n",
    "\n",
    "w = weight\n",
    "\n",
    "L = the parabola this function represents\n",
    "\n",
    "delta r = displacment vector\n",
    "\n",
    "inverted delta f = gradient\n",
    "\n",
    "gradient is a slope, specifically the slope of the changing slope? aka acceleration? aka slope of non-linear functions?\n",
    "\n",
    "gradient descent: find a random point. then check around it in steps to find the largest slope, aka gradient, and go in opposite direction to continuely find the slope \"largest slope\" smaller and smaller until it settles in the minimum point in the parabaloid/nth dimensional shape.\n",
    "\n",
    "w0 is bias\n",
    "\n",
    "w1 is a feature/ vector of slope of features?\n",
    "\n",
    "beta0 is gradient?\n",
    "\n",
    "RSS is residual sum of squares: level of variance in a regression model in units of residuals/error term. The sum of the squared value of x, y, m, and b. the sum of errors squared\n",
    "\n",
    "RMSE is root mean squared error: the average error between a data point and the regression line\n",
    "\n",
    "m = slope\n",
    "\n",
    "b = y-int\n",
    "\n",
    "Residual is how far off a datapoint is from out regression line. in units of relavant variable (ex: $, lbs, mph, etc...)"
   ]
  },
  {
   "cell_type": "code",
   "execution_count": 5,
   "metadata": {},
   "outputs": [
    {
     "name": "stdout",
     "output_type": "stream",
     "text": [
      "Package                           Version\n",
      "--------------------------------- -----------\n",
      "absl-py                           0.10.0\n",
      "aiohttp                           3.6.3\n",
      "argon2-cffi                       20.1.0\n",
      "arviz                             0.10.0\n",
      "astunparse                        1.6.3\n",
      "async-generator                   1.10\n",
      "async-timeout                     3.0.1\n",
      "attrs                             20.2.0\n",
      "backcall                          0.2.0\n",
      "backports.functools-lru-cache     1.6.1\n",
      "beautifulsoup4                    4.9.3\n",
      "bleach                            3.2.1\n",
      "boto                              2.49.0\n",
      "boto3                             1.15.16\n",
      "botocore                          1.18.16\n",
      "branca                            0.4.1\n",
      "brotlipy                          0.7.0\n",
      "bz2file                           0.98\n",
      "cachetools                        4.1.1\n",
      "certifi                           2022.6.15\n",
      "cffi                              1.14.3\n",
      "cftime                            1.2.1\n",
      "chardet                           3.0.4\n",
      "click                             7.1.2\n",
      "colorama                          0.4.3\n",
      "convertdate                       2.2.2\n",
      "cryptography                      3.1.1\n",
      "cvxpy                             1.1.6\n",
      "cycler                            0.10.0\n",
      "Cython                            0.29.21\n",
      "decorator                         4.4.2\n",
      "defusedxml                        0.6.0\n",
      "docutils                          0.15.2\n",
      "ecos                              2.0.7.post1\n",
      "entrypoints                       0.3\n",
      "ephem                             3.7.7.1\n",
      "et-xmlfile                        1.0.1\n",
      "fbprophet                         0.7.1\n",
      "folium                            0.11.0\n",
      "future                            0.18.2\n",
      "gast                              0.3.3\n",
      "gensim                            3.8.3\n",
      "google-api-core                   1.22.2\n",
      "google-auth                       1.22.0\n",
      "google-auth-oauthlib              0.4.1\n",
      "google-cloud-core                 1.4.3\n",
      "google-cloud-storage              1.31.2\n",
      "google-crc32c                     1.0.0\n",
      "google-pasta                      0.2.0\n",
      "google-resumable-media            1.1.0\n",
      "googleapis-common-protos          1.52.0\n",
      "grpcio                            1.31.0\n",
      "h5py                              2.10.0\n",
      "holidays                          0.10.3\n",
      "idna                              2.10\n",
      "imbalanced-learn                  0.7.0\n",
      "importlib-metadata                2.0.0\n",
      "ipykernel                         5.3.4\n",
      "ipython                           7.18.1\n",
      "ipython-genutils                  0.2.0\n",
      "ipywidgets                        7.5.1\n",
      "jdcal                             1.4.1\n",
      "jedi                              0.17.2\n",
      "Jinja2                            2.11.2\n",
      "jmespath                          0.10.0\n",
      "joblib                            0.17.0\n",
      "jsonschema                        3.2.0\n",
      "jupyter                           1.0.0\n",
      "jupyter-client                    6.1.7\n",
      "jupyter-console                   6.2.0\n",
      "jupyter-contrib-core              0.3.3\n",
      "jupyter-contrib-nbextensions      0.5.1\n",
      "jupyter-core                      4.6.3\n",
      "jupyter-highlight-selected-word   0.2.0\n",
      "jupyter-latex-envs                1.4.6\n",
      "jupyter-nbextensions-configurator 0.4.1\n",
      "jupyterlab-pygments               0.1.2\n",
      "Keras                             2.4.3\n",
      "Keras-Preprocessing               1.1.2\n",
      "kiwisolver                        1.2.0\n",
      "korean-lunar-calendar             0.2.1\n",
      "LunarCalendar                     0.0.9\n",
      "lxml                              4.6.1\n",
      "lz4                               3.1.3\n",
      "Markdown                          3.3.2\n",
      "MarkupSafe                        1.1.1\n",
      "matplotlib                        3.3.1\n",
      "mistune                           0.8.4\n",
      "mkl-fft                           1.2.0\n",
      "mkl-random                        1.1.0\n",
      "mkl-service                       2.3.0\n",
      "Note: you may need to restart the kernel to use updated packages.mpmath                            1.2.1\n",
      "multidict                         4.7.5\n",
      "nbclient                          0.5.1\n",
      "\n",
      "nbconvert                         6.0.7\n",
      "nbformat                          5.0.8\n",
      "nest-asyncio                      1.4.1\n",
      "netCDF4                           1.5.4\n",
      "networkx                          2.5.1\n",
      "nltk                              3.5\n",
      "notebook                          6.1.4\n",
      "numpy                             1.19.2\n",
      "oauthlib                          3.1.0\n",
      "olefile                           0.46\n",
      "openpyxl                          3.0.5\n",
      "opt-einsum                        3.3.0\n",
      "orc                               0.1.0\n",
      "osqp                              0.6.1\n",
      "packaging                         20.4\n",
      "pandas                            1.1.3\n",
      "pandasql                          0.7.3\n",
      "pandocfilters                     1.4.2\n",
      "parso                             0.7.0\n",
      "patsy                             0.5.1\n",
      "pexpect                           4.8.0\n",
      "pickleshare                       0.7.5\n",
      "Pillow                            8.0.0\n",
      "pip                               20.2.3\n",
      "plotly                            4.11.0\n",
      "prometheus-client                 0.8.0\n",
      "prompt-toolkit                    3.0.8\n",
      "protobuf                          3.11.2\n",
      "ptyprocess                        0.6.0\n",
      "py4j                              0.10.9\n",
      "pyarrow                           0.15.1\n",
      "pyasn1                            0.4.8\n",
      "pyasn1-modules                    0.2.7\n",
      "pybind11                          2.5.0\n",
      "pycparser                         2.20\n",
      "Pygments                          2.7.1\n",
      "PyMeeus                           0.3.7\n",
      "pymongo                           3.11.0\n",
      "pyOpenSSL                         19.1.0\n",
      "pyparsing                         2.4.7\n",
      "pyreadline                        2.1\n",
      "pyrsistent                        0.17.3\n",
      "PySocks                           1.7.1\n",
      "pyspark                           3.0.0\n",
      "pystan                            2.19.1.1\n",
      "python-dateutil                   2.8.1\n",
      "pytz                              2020.1\n",
      "pywin32                           227\n",
      "pywinpty                          0.5.7\n",
      "PyYAML                            5.3.1\n",
      "pyzmq                             19.0.2\n",
      "qtconsole                         4.7.7\n",
      "QtPy                              1.9.0\n",
      "regex                             2020.10.15\n",
      "requests                          2.24.0\n",
      "requests-oauthlib                 1.3.0\n",
      "retrying                          1.3.3\n",
      "rsa                               4.6\n",
      "s3transfer                        0.3.3\n",
      "scikit-learn                      0.23.2\n",
      "scikit-surprise                   1.1.1\n",
      "scipy                             1.5.0\n",
      "scs                               2.1.2\n",
      "seaborn                           0.11.0\n",
      "Send2Trash                        1.5.0\n",
      "setuptools                        57.4.0\n",
      "setuptools-git                    1.2\n",
      "simplegeneric                     0.8.1\n",
      "sip                               4.19.13\n",
      "six                               1.15.0\n",
      "smart-open                        3.0.0\n",
      "soupsieve                         2.0.1\n",
      "SQLAlchemy                        1.3.19\n",
      "statsmodels                       0.12.0\n",
      "sympy                             1.10.1\n",
      "tensorboard                       2.3.0\n",
      "tensorboard-plugin-wit            1.7.0\n",
      "tensorflow                        2.3.1\n",
      "tensorflow-estimator              2.3.0\n",
      "termcolor                         1.1.0\n",
      "terminado                         0.9.1\n",
      "testpath                          0.4.4\n",
      "threadpoolctl                     2.1.0\n",
      "tornado                           6.0.4\n",
      "tqdm                              4.50.2\n",
      "traitlets                         5.0.5\n",
      "urllib3                           1.25.10\n",
      "wcwidth                           0.2.5\n",
      "webencodings                      0.5.1\n",
      "Werkzeug                          1.0.1\n",
      "wheel                             0.35.1\n",
      "widgetsnbextension                3.5.1\n",
      "win-inet-pton                     1.1.0\n",
      "wincertstore                      0.2\n",
      "wrapt                             1.12.1\n",
      "xarray                            0.16.1\n",
      "xgboost                           1.2.1\n",
      "xlrd                              1.2.0\n",
      "yarl                              1.5.1\n",
      "zipp                              3.3.0\n"
     ]
    }
   ],
   "source": [
    "pip list"
   ]
  },
  {
   "cell_type": "code",
   "execution_count": 6,
   "metadata": {},
   "outputs": [
    {
     "name": "stdout",
     "output_type": "stream",
     "text": [
      "\n",
      "Note: you may need to restart the kernel to use updated packages.\n"
     ]
    },
    {
     "name": "stderr",
     "output_type": "stream",
     "text": [
      "Traceback (most recent call last):\n",
      "  File \"C:\\Users\\musaa\\anaconda3\\Scripts\\conda-script.py\", line 11, in <module>\n",
      "    from conda.cli import main\n",
      "ModuleNotFoundError: No module named 'conda'\n"
     ]
    }
   ],
   "source": [
    "conda install -c anaconda linear_equations"
   ]
  },
  {
   "cell_type": "code",
   "execution_count": 7,
   "metadata": {},
   "outputs": [
    {
     "ename": "ModuleNotFoundError",
     "evalue": "No module named 'linear_equations'",
     "output_type": "error",
     "traceback": [
      "\u001b[1;31m---------------------------------------------------------------------------\u001b[0m",
      "\u001b[1;31mModuleNotFoundError\u001b[0m                       Traceback (most recent call last)",
      "\u001b[1;32m<ipython-input-7-2e635c36c08c>\u001b[0m in \u001b[0;36m<module>\u001b[1;34m\u001b[0m\n\u001b[0;32m      5\u001b[0m \u001b[1;31m#y = 3+ 50* x + y_randterm 3 is beta0 or yint and 50 is beta1 or slope/m\u001b[0m\u001b[1;33m\u001b[0m\u001b[1;33m\u001b[0m\u001b[1;33m\u001b[0m\u001b[0m\n\u001b[0;32m      6\u001b[0m \u001b[1;33m\u001b[0m\u001b[0m\n\u001b[1;32m----> 7\u001b[1;33m \u001b[1;32mfrom\u001b[0m \u001b[0mlinear_equations\u001b[0m \u001b[1;32mimport\u001b[0m \u001b[0mbuild_regression_line\u001b[0m\u001b[1;33m\u001b[0m\u001b[1;33m\u001b[0m\u001b[0m\n\u001b[0m\u001b[0;32m      8\u001b[0m \u001b[1;33m\u001b[0m\u001b[0m\n\u001b[0;32m      9\u001b[0m \u001b[1;32mdef\u001b[0m \u001b[0mbetter_reg_formula\u001b[0m\u001b[1;33m(\u001b[0m\u001b[0mx\u001b[0m\u001b[1;33m,\u001b[0m\u001b[0my\u001b[0m\u001b[1;33m)\u001b[0m\u001b[1;33m:\u001b[0m\u001b[1;33m\u001b[0m\u001b[1;33m\u001b[0m\u001b[0m\n",
      "\u001b[1;31mModuleNotFoundError\u001b[0m: No module named 'linear_equations'"
     ]
    }
   ],
   "source": [
    "#improved function to build a regression formula and regression line at once\n",
    "\n",
    "#x = np.random.rand(30,1).reshape(30)\n",
    "#y_randterm = np.random.normal(0,3,30)\n",
    "#y = 3+ 50* x + y_randterm 3 is beta0 or yint and 50 is beta1 or slope/m\n",
    "\n",
    "from linear_equations import build_regression_line\n",
    "\n",
    "def better_reg_formula(x,y):\n",
    "    reglin = build_regression_line(x,y)\n",
    "    slope, yint = build_regression_line(x,y)\n",
    "    return reglin[yint] + reglin[slope]*x\n",
    "\n",
    "#plt.plot(x, y, '.b')\n",
    "#plt.plot(x, better_reg_formula(x,y), '-')\n",
    "#plt.xlabel(\"x\", fontsize=14)\n",
    "#plt.ylabel(\"y\", fontsize=14);"
   ]
  },
  {
   "cell_type": "markdown",
   "metadata": {},
   "source": [
    "## Gradient Descent"
   ]
  },
  {
   "cell_type": "code",
   "execution_count": null,
   "metadata": {},
   "outputs": [],
   "source": [
    "conda install -c anaconda sympy"
   ]
  },
  {
   "cell_type": "code",
   "execution_count": null,
   "metadata": {},
   "outputs": [],
   "source": [
    "from sympy import *\n",
    "from sympy.abc import x, y\n",
    "\n",
    "x, y, i, N, w1 = symbols(\"x, y, i, N, w1\")\n",
    "L = summation((Indexed('y',i) - Indexed('x',i)*w1)**2 ,(i,1,N))\n",
    "L"
   ]
  },
  {
   "cell_type": "code",
   "execution_count": null,
   "metadata": {},
   "outputs": [],
   "source": [
    "grad = diff(L, w1) #derivative of L with respect to w1\n",
    "grad"
   ]
  },
  {
   "cell_type": "markdown",
   "metadata": {},
   "source": [
    "99 percent of problems will be solved with gradient descent"
   ]
  },
  {
   "cell_type": "code",
   "execution_count": null,
   "metadata": {},
   "outputs": [],
   "source": [
    "def init_weight(X): #ask about this later. Does this create a normal distribution/weight for all features/values in said features?\n",
    "    num_features = X.shape[1]\n",
    "    w_0 = np.random.normal(loc =0 , \n",
    "                           scale = 4, \n",
    "                           size = (num_features,\n",
    "                                   1))\n",
    "    \n",
    "    return w_0\n",
    "    "
   ]
  },
  {
   "cell_type": "code",
   "execution_count": null,
   "metadata": {},
   "outputs": [],
   "source": []
  }
 ],
 "metadata": {
  "kernelspec": {
   "display_name": "Python (learn-env)",
   "language": "python",
   "name": "learn-env"
  },
  "language_info": {
   "codemirror_mode": {
    "name": "ipython",
    "version": 3
   },
   "file_extension": ".py",
   "mimetype": "text/x-python",
   "name": "python",
   "nbconvert_exporter": "python",
   "pygments_lexer": "ipython3",
   "version": "3.8.5"
  }
 },
 "nbformat": 4,
 "nbformat_minor": 4
}
